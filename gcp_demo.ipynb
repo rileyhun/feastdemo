{
 "cells": [
  {
   "cell_type": "code",
   "execution_count": 2,
   "id": "4950f468-782d-42da-a992-b21ce6316c57",
   "metadata": {},
   "outputs": [],
   "source": [
    "BUCKET_NAME=\"feature_store_rhun\"\n",
    "BIGQUERY_DATASET_NAME=\"store_attrs\""
   ]
  },
  {
   "cell_type": "code",
   "execution_count": 12,
   "id": "19b27fef-ddac-4241-bb42-7bbe8ed139fc",
   "metadata": {},
   "outputs": [
    {
     "name": "stdout",
     "output_type": "stream",
     "text": [
      "Creating gs://feature_store_rhun/...\n",
      "ServiceException: 409 A Cloud Storage bucket named 'feature_store_rhun' already exists. Try another name. Bucket names must be globally unique across all Google Cloud projects, including those outside of your organization.\n"
     ]
    }
   ],
   "source": [
    "!gsutil mb gs://$BUCKET_NAME"
   ]
  },
  {
   "cell_type": "code",
   "execution_count": 13,
   "id": "14f177fa-2475-4463-9449-d83198306266",
   "metadata": {},
   "outputs": [
    {
     "name": "stdout",
     "output_type": "stream",
     "text": [
      "BigQuery error in mk operation: Dataset 'fast-envoy-329104:store_attrs' already\n",
      "exists.\n"
     ]
    }
   ],
   "source": [
    "!bq mk $BIGQUERY_DATASET_NAME"
   ]
  },
  {
   "cell_type": "code",
   "execution_count": 3,
   "id": "ece13c73-74fd-4a40-86c0-a2149492843c",
   "metadata": {},
   "outputs": [
    {
     "name": "stdout",
     "output_type": "stream",
     "text": [
      "\n",
      "Creating a new Feast repository in \u001b[1m\u001b[32m/home/jupyter/feast_demo\u001b[0m.\n",
      "\n",
      "/home/jupyter/feast_demo\n",
      "feature_store.yaml\n"
     ]
    }
   ],
   "source": [
    "! feast init --minimal --template gcp feast_demo \n",
    "%cd feast_demo\n",
    "! ls"
   ]
  },
  {
   "cell_type": "code",
   "execution_count": 4,
   "id": "05bccecf",
   "metadata": {},
   "outputs": [
    {
     "name": "stdout",
     "output_type": "stream",
     "text": [
      "project: feast_demo\n",
      "registry: gs://feature_store_rhun/registry.db\n",
      "provider: gcp"
     ]
    }
   ],
   "source": [
    "feature_store = \\\n",
    "f\"\"\"project: feast_demo\n",
    "registry: gs://{BUCKET_NAME}/registry.db\n",
    "provider: gcp\"\"\"\n",
    "\n",
    "with open('feature_store.yaml', \"w\") as feature_store_file:\n",
    "    feature_store_file.write(feature_store)\n",
    "\n",
    "# Print our feature_store.yaml\n",
    "! cat feature_store.yaml"
   ]
  },
  {
   "cell_type": "code",
   "execution_count": 22,
   "id": "e913a5fd-fe11-419d-a854-11dfa45f169c",
   "metadata": {},
   "outputs": [],
   "source": [
    "# !pip install feast==0.10.5 pandas==1.3.5"
   ]
  },
  {
   "cell_type": "code",
   "execution_count": 5,
   "id": "0bb64d0a",
   "metadata": {},
   "outputs": [],
   "source": [
    "import pandas as pd\n",
    "df = pd.read_parquet('../features.parquet')"
   ]
  },
  {
   "cell_type": "code",
   "execution_count": 6,
   "id": "c463ad65",
   "metadata": {},
   "outputs": [],
   "source": [
    "list1 = []\n",
    "for x in range(0,100):\n",
    "    list1.append(x)\n",
    "df['created_on'] = pd.Series(pd.to_datetime(list1, unit='D', origin=pd.Timestamp('2022-01-01')))"
   ]
  },
  {
   "cell_type": "code",
   "execution_count": 7,
   "id": "b45116ea-872c-4c2a-844e-4682ca5270b3",
   "metadata": {},
   "outputs": [
    {
     "name": "stderr",
     "output_type": "stream",
     "text": [
      "100%|██████████| 1/1 [00:00<00:00, 8774.69it/s]\n"
     ]
    }
   ],
   "source": [
    "df.to_gbq('fast-envoy-329104.demo_data.store_attrs', \n",
    "          chunksize=None, # I have tried with several chunk sizes, it runs faster when it's one big chunk (at least for me)\n",
    "          if_exists='replace'\n",
    "         )"
   ]
  },
  {
   "cell_type": "code",
   "execution_count": 8,
   "id": "b7e66499",
   "metadata": {},
   "outputs": [],
   "source": [
    "%%bash\n",
    "FEATURES_PY=features.py\n",
    "if test -f $FEATURES_PY; then\n",
    "    rm $FEATURES_PY\n",
    "fi\n",
    "touch $FEATURES_PY\n",
    "echo -e 'from feast import Entity, Feature, FeatureView, ValueType, BigQuerySource\n",
    "from datetime import timedelta\n",
    "\n",
    "# Define an entity for the project\n",
    "store_attrs = Entity(\n",
    "    name=\"store_sk_id\",\n",
    "    join_key=\"store_sk_id\",\n",
    "    value_type=ValueType.INT64,\n",
    ")\n",
    "\n",
    "# Read data\n",
    "store_attrs_source = BigQuerySource(\n",
    "    query=\"SELECT * `fast-envoy-329104.demo_data.store_attrs`\",\n",
    "    event_timestamp_column=\"created_on\"\n",
    ")\n",
    "\n",
    "# Define a Feature View for each project\n",
    "# Can be used for fetching historical data and online serving\n",
    "store_attrs_view = FeatureView(\n",
    "    name=\"store_details\",\n",
    "    entities=[\"store_sk_id\"],\n",
    "    ttl=timedelta(weeks=52),\n",
    "    features=[\n",
    "        Feature(name=\"current_ind\", dtype=ValueType.STRING),\n",
    "        Feature(name=\"store_nbr\", dtype=ValueType.INT64),\n",
    "        Feature(name=\"store_name\", dtype=ValueType.STRING),\n",
    "        Feature(name=\"street_addr_line1\", dtype=ValueType.STRING),\n",
    "        Feature(name=\"city_name\", dtype=ValueType.STRING),\n",
    "        Feature(name=\"state_prov_code\", dtype=ValueType.STRING),\n",
    "        Feature(name=\"postal_code\", dtype=ValueType.STRING),\n",
    "        Feature(name=\"subdiv_nbr\", dtype=ValueType.STRING),\n",
    "        Feature(name=\"subdiv_name\", dtype=ValueType.STRING),\n",
    "        Feature(name=\"region_name\", dtype=ValueType.STRING),\n",
    "        Feature(name=\"region_nbr\", dtype=ValueType.INT64),\n",
    "        Feature(name=\"market_area_nbr\", dtype=ValueType.INT64),\n",
    "        Feature(name=\"market_area_name\", dtype=ValueType.STRING),\n",
    "        Feature(name=\"primary_trait_name\", dtype=ValueType.STRING),\n",
    "        Feature(name=\"county_name\", dtype=ValueType.STRING),\n",
    "        Feature(name=\"phone_nbr\", dtype=ValueType.STRING),\n",
    "        Feature(name=\"store_size_qty\", dtype=ValueType.INT64),\n",
    "        Feature(name=\"store_size_uom_code\", dtype=ValueType.STRING),\n",
    "        Feature(name=\"store_size_uom_desc\", dtype=ValueType.STRING),\n",
    "        Feature(name=\"open_sunday_ind\", dtype=ValueType.STRING),\n",
    "        Feature(name=\"open_status_code\", dtype=ValueType.STRING),\n",
    "        Feature(name=\"open_status_desc\", dtype=ValueType.STRING),\n",
    "        Feature(name=\"expansion_size_qty\", dtype=ValueType.INT64),\n",
    "        Feature(name=\"real_store_nbr\", dtype=ValueType.INT64),\n",
    "        Feature(name=\"temp_store_nbr\", dtype=ValueType.INT64),\n",
    "        Feature(name=\"temp_store_ind\", dtype=ValueType.STRING),\n",
    "        Feature(name=\"store_type_code\", dtype=ValueType.STRING),\n",
    "        Feature(name=\"store_type_desc\", dtype=ValueType.STRING),\n",
    "        Feature(name=\"size_class_code\", dtype=ValueType.INT64),\n",
    "        Feature(name=\"sales_class_code\", dtype=ValueType.INT64),\n",
    "        Feature(name=\"store_comp_code\", dtype=ValueType.STRING),\n",
    "        Feature(name=\"store_comp_desc\", dtype=ValueType.STRING),\n",
    "        Feature(name=\"store_comp_ind\", dtype=ValueType.STRING),\n",
    "        Feature(name=\"financial_rpt_code\", dtype=ValueType.STRING),\n",
    "        Feature(name=\"financial_rpt_desc\", dtype=ValueType.STRING),\n",
    "        Feature(name=\"delivery_type_code\", dtype=ValueType.STRING),\n",
    "        Feature(name=\"delivery_type_desc\", dtype=ValueType.STRING),\n",
    "        Feature(name=\"prototype_nbr\", dtype=ValueType.STRING),\n",
    "        Feature(name=\"time_zone_code\", dtype=ValueType.STRING),\n",
    "        Feature(name=\"latitude_dgr\", dtype=ValueType.FLOAT),\n",
    "        Feature(name=\"longitude_dgr\", dtype=ValueType.FLOAT),\n",
    "        Feature(name=\"apparel_zone_nbr\", dtype=ValueType.INT64),\n",
    "        Feature(name=\"mdse_major_zone_nbr\", dtype=ValueType.INT64),\n",
    "        Feature(name=\"mdse_sub_zone_nbr\", dtype=ValueType.INT64),\n",
    "        Feature(name=\"banner_code\", dtype=ValueType.STRING),\n",
    "        Feature(name=\"banner_desc\", dtype=ValueType.STRING),\n",
    "        Feature(name=\"store_mgr_name\", dtype=ValueType.STRING),\n",
    "        Feature(name=\"buo_area_nbr\", dtype=ValueType.INT64),\n",
    "        Feature(name=\"base_div_nbr\", dtype=ValueType.INT64),\n",
    "        Feature(name=\"buo_area_name\", dtype=ValueType.STRING),\n",
    "        Feature(name=\"subregion_nbr\", dtype=ValueType.STRING),\n",
    "        Feature(name=\"subregion_name\", dtype=ValueType.STRING),\n",
    "        Feature(name=\"dec_store_nbr\", dtype=ValueType.STRING),\n",
    "        Feature(name=\"buo_area_mgr_name\", dtype=ValueType.STRING),\n",
    "        Feature(name=\"subdiv_mgr_name\", dtype=ValueType.STRING),\n",
    "        Feature(name=\"region_mgr_name\", dtype=ValueType.STRING),\n",
    "        Feature(name=\"subregion_mgr_name\", dtype=ValueType.STRING),\n",
    "        Feature(name=\"market_area_mgr_name\", dtype=ValueType.STRING),\n",
    "        Feature(name=\"geo_point_nbr\", dtype=ValueType.STRING)\n",
    "    ],\n",
    "    input=store_attrs_source,\n",
    "    tags={\"team\": \"my_team\"},\n",
    ")\n",
    "' >> $FEATURES_PY"
   ]
  },
  {
   "cell_type": "code",
   "execution_count": 10,
   "id": "5f57f44b",
   "metadata": {},
   "outputs": [],
   "source": [
    "!feast apply"
   ]
  },
  {
   "cell_type": "code",
   "execution_count": 14,
   "id": "291ea33c",
   "metadata": {},
   "outputs": [],
   "source": [
    "import pandas as pd\n",
    "from feast import FeatureStore"
   ]
  },
  {
   "cell_type": "code",
   "execution_count": 15,
   "id": "0d3c8dfe",
   "metadata": {},
   "outputs": [
    {
     "data": {
      "text/html": [
       "<div>\n",
       "<style scoped>\n",
       "    .dataframe tbody tr th:only-of-type {\n",
       "        vertical-align: middle;\n",
       "    }\n",
       "\n",
       "    .dataframe tbody tr th {\n",
       "        vertical-align: top;\n",
       "    }\n",
       "\n",
       "    .dataframe thead th {\n",
       "        text-align: right;\n",
       "    }\n",
       "</style>\n",
       "<table border=\"1\" class=\"dataframe\">\n",
       "  <thead>\n",
       "    <tr style=\"text-align: right;\">\n",
       "      <th></th>\n",
       "      <th>store_sk_id</th>\n",
       "      <th>event_timestamp</th>\n",
       "    </tr>\n",
       "  </thead>\n",
       "  <tbody>\n",
       "    <tr>\n",
       "      <th>0</th>\n",
       "      <td>752</td>\n",
       "      <td>2022-07-27</td>\n",
       "    </tr>\n",
       "    <tr>\n",
       "      <th>1</th>\n",
       "      <td>127</td>\n",
       "      <td>2022-07-27</td>\n",
       "    </tr>\n",
       "    <tr>\n",
       "      <th>2</th>\n",
       "      <td>801</td>\n",
       "      <td>2022-07-27</td>\n",
       "    </tr>\n",
       "  </tbody>\n",
       "</table>\n",
       "</div>"
      ],
      "text/plain": [
       "   store_sk_id event_timestamp\n",
       "0          752      2022-07-27\n",
       "1          127      2022-07-27\n",
       "2          801      2022-07-27"
      ]
     },
     "execution_count": 15,
     "metadata": {},
     "output_type": "execute_result"
    }
   ],
   "source": [
    "# Identify entities\n",
    "project_ids = df.store_sk_id[0:3].to_list()\n",
    "now = datetime.now()\n",
    "timestamps = [datetime(now.year, now.month, now.day)]*len(project_ids)\n",
    "entity_df = pd.DataFrame.from_dict({\"store_sk_id\": project_ids, \"event_timestamp\": timestamps})\n",
    "entity_df.head()"
   ]
  },
  {
   "cell_type": "code",
   "execution_count": 16,
   "id": "298ba0b3",
   "metadata": {},
   "outputs": [
    {
     "data": {
      "text/html": [
       "<div>\n",
       "<style scoped>\n",
       "    .dataframe tbody tr th:only-of-type {\n",
       "        vertical-align: middle;\n",
       "    }\n",
       "\n",
       "    .dataframe tbody tr th {\n",
       "        vertical-align: top;\n",
       "    }\n",
       "\n",
       "    .dataframe thead th {\n",
       "        text-align: right;\n",
       "    }\n",
       "</style>\n",
       "<table border=\"1\" class=\"dataframe\">\n",
       "  <thead>\n",
       "    <tr style=\"text-align: right;\">\n",
       "      <th></th>\n",
       "      <th>event_timestamp</th>\n",
       "      <th>store_sk_id</th>\n",
       "      <th>store_details__subregion_mgr_name</th>\n",
       "      <th>store_details__latitude_dgr</th>\n",
       "    </tr>\n",
       "  </thead>\n",
       "  <tbody>\n",
       "    <tr>\n",
       "      <th>0</th>\n",
       "      <td>2022-07-27 00:00:00+00:00</td>\n",
       "      <td>752</td>\n",
       "      <td>lnyirfnhrw</td>\n",
       "      <td>0.274</td>\n",
       "    </tr>\n",
       "    <tr>\n",
       "      <th>1</th>\n",
       "      <td>2022-07-27 00:00:00+00:00</td>\n",
       "      <td>127</td>\n",
       "      <td>oubcruropm</td>\n",
       "      <td>0.123</td>\n",
       "    </tr>\n",
       "    <tr>\n",
       "      <th>2</th>\n",
       "      <td>2022-07-27 00:00:00+00:00</td>\n",
       "      <td>801</td>\n",
       "      <td>buxoxljghc</td>\n",
       "      <td>0.612</td>\n",
       "    </tr>\n",
       "  </tbody>\n",
       "</table>\n",
       "</div>"
      ],
      "text/plain": [
       "            event_timestamp  store_sk_id store_details__subregion_mgr_name  \\\n",
       "0 2022-07-27 00:00:00+00:00          752                        lnyirfnhrw   \n",
       "1 2022-07-27 00:00:00+00:00          127                        oubcruropm   \n",
       "2 2022-07-27 00:00:00+00:00          801                        buxoxljghc   \n",
       "\n",
       "   store_details__latitude_dgr  \n",
       "0                        0.274  \n",
       "1                        0.123  \n",
       "2                        0.612  "
      ]
     },
     "execution_count": 16,
     "metadata": {},
     "output_type": "execute_result"
    }
   ],
   "source": [
    "# Get historical features\n",
    "store = FeatureStore(repo_path=\"features\")\n",
    "training_df = store.get_historical_features(\n",
    "    entity_df=entity_df,\n",
    "    feature_refs=[\"store_details:subregion_mgr_name\", \"store_details:latitude_dgr\"],\n",
    ").to_df()\n",
    "training_df.head()"
   ]
  },
  {
   "cell_type": "code",
   "execution_count": null,
   "id": "227461a4",
   "metadata": {},
   "outputs": [],
   "source": []
  }
 ],
 "metadata": {
  "environment": {
   "kernel": "python-37",
   "name": "common-cpu.m94",
   "type": "gcloud",
   "uri": "gcr.io/deeplearning-platform-release/base-cpu:m94"
  },
  "kernelspec": {
   "display_name": "Python 3.7.13",
   "language": "python",
   "name": "python-37"
  },
  "language_info": {
   "codemirror_mode": {
    "name": "ipython",
    "version": 3
   },
   "file_extension": ".py",
   "mimetype": "text/x-python",
   "name": "python",
   "nbconvert_exporter": "python",
   "pygments_lexer": "ipython3",
   "version": "3.7.13"
  }
 },
 "nbformat": 4,
 "nbformat_minor": 5
}

{
 "cells": [
  {
   "cell_type": "code",
   "execution_count": 1,
   "id": "28805e5e",
   "metadata": {},
   "outputs": [
    {
     "name": "stdout",
     "output_type": "stream",
     "text": [
      "The directory \u001b[1m\u001b[32mfeatures\u001b[0m contains an existing feature store repository that may cause a conflict\n",
      "\n"
     ]
    }
   ],
   "source": [
    "%%sh\n",
    "mkdir -p stores/feature\n",
    "mkdir -p data\n",
    "feast init --minimal --template local features\n",
    "cd features\n",
    "touch features.py"
   ]
  },
  {
   "cell_type": "code",
   "execution_count": 2,
   "id": "05bccecf",
   "metadata": {},
   "outputs": [
    {
     "name": "stdout",
     "output_type": "stream",
     "text": [
      "project: features\n",
      "registry: ../stores/feature/registry.db\n",
      "provider: local\n",
      "online_store:\n",
      "    path: ../stores/feature/online_store.db\n"
     ]
    }
   ],
   "source": [
    "%%bash\n",
    "FEATURE_STORE_YAML=features/feature_store.yaml\n",
    "if test -f $FEATURE_STORE_YAML; then\n",
    "    rm $FEATURE_STORE_YAML\n",
    "fi\n",
    "touch $FEATURE_STORE_YAML\n",
    "echo \"project: features\" >> $FEATURE_STORE_YAML\n",
    "echo \"registry: ../stores/feature/registry.db\" >> $FEATURE_STORE_YAML\n",
    "echo \"provider: local\" >> $FEATURE_STORE_YAML\n",
    "echo \"online_store:\" >> $FEATURE_STORE_YAML\n",
    "echo \"    path: ../stores/feature/online_store.db\" >> $FEATURE_STORE_YAML\n",
    "cat $FEATURE_STORE_YAML"
   ]
  },
  {
   "cell_type": "code",
   "execution_count": 6,
   "id": "0bb64d0a",
   "metadata": {},
   "outputs": [],
   "source": [
    "import pandas as pd\n",
    "df = pd.read_parquet('features.parquet')"
   ]
  },
  {
   "cell_type": "code",
   "execution_count": 7,
   "id": "c463ad65",
   "metadata": {},
   "outputs": [],
   "source": [
    "list1 = []\n",
    "for x in range(0,100):\n",
    "    list1.append(x)\n",
    "df['created_on'] = pd.Series(pd.to_datetime(list1, unit='D', origin=pd.Timestamp('2022-01-01')))"
   ]
  },
  {
   "cell_type": "code",
   "execution_count": 10,
   "id": "096b1f49",
   "metadata": {},
   "outputs": [],
   "source": [
    "# Convert to parquet\n",
    "from pathlib import Path\n",
    "import os\n",
    "DATA_DIR = Path(os.getcwd(), \"data\")\n",
    "df.to_parquet(\n",
    "    Path(DATA_DIR, \"features.parquet\"),\n",
    "    compression=None,\n",
    "    allow_truncated_timestamps=True,\n",
    ")"
   ]
  },
  {
   "cell_type": "code",
   "execution_count": 11,
   "id": "60a463c1",
   "metadata": {},
   "outputs": [],
   "source": [
    "import os\n",
    "import json\n",
    "import pandas as pd\n",
    "from datetime import datetime\n",
    "from pathlib import Path\n",
    "from feast import Entity, Feature, FeatureView, ValueType\n",
    "from feast.data_source import FileSource\n",
    "from google.protobuf.duration_pb2 import Duration"
   ]
  },
  {
   "cell_type": "code",
   "execution_count": 12,
   "id": "b7e66499",
   "metadata": {},
   "outputs": [],
   "source": [
    "%%bash\n",
    "FEATURES_PY=features/features.py\n",
    "if test -f $FEATURES_PY; then\n",
    "    rm $FEATURES_PY\n",
    "fi\n",
    "touch $FEATURES_PY\n",
    "echo -e 'from datetime import datetime\n",
    "from pathlib import Path\n",
    "\n",
    "from feast import Entity, Feature, FeatureView, ValueType\n",
    "from feast.data_source import FileSource\n",
    "from google.protobuf.duration_pb2 import Duration\n",
    "\n",
    "\n",
    "# Read data\n",
    "START_TIME = \"2022-01-01\"\n",
    "project_details = FileSource(\n",
    "    path=\"/Users/hunr/PycharmProjects/feastdemo/data/features.parquet\",\n",
    "    event_timestamp_column=\"created_on\",\n",
    ")\n",
    "\n",
    "# Define an entity for the project\n",
    "project = Entity(\n",
    "    name=\"store_sk_id\",\n",
    "    value_type=ValueType.INT64,\n",
    "    description=\"project id\",\n",
    ")\n",
    "\n",
    "# Define a Feature View for each project\n",
    "# Can be used for fetching historical data and online serving\n",
    "project_details_view = FeatureView(\n",
    "    name=\"store_details\",\n",
    "    entities=[\"store_sk_id\"],\n",
    "    ttl=Duration(\n",
    "        seconds=(datetime.today() - datetime.strptime(START_TIME, \"%Y-%m-%d\")).days * 24 * 60 * 60\n",
    "    ),\n",
    "    features=[\n",
    "        Feature(name=\"current_ind\", dtype=ValueType.STRING),\n",
    "        Feature(name=\"store_nbr\", dtype=ValueType.INT64),\n",
    "        Feature(name=\"store_name\", dtype=ValueType.STRING),\n",
    "        Feature(name=\"street_addr_line1\", dtype=ValueType.STRING),\n",
    "        Feature(name=\"city_name\", dtype=ValueType.STRING),\n",
    "        Feature(name=\"state_prov_code\", dtype=ValueType.STRING),\n",
    "        Feature(name=\"postal_code\", dtype=ValueType.STRING),\n",
    "        Feature(name=\"subdiv_nbr\", dtype=ValueType.STRING),\n",
    "        Feature(name=\"subdiv_name\", dtype=ValueType.STRING),\n",
    "        Feature(name=\"region_name\", dtype=ValueType.STRING),\n",
    "        Feature(name=\"region_nbr\", dtype=ValueType.INT64),\n",
    "        Feature(name=\"market_area_nbr\", dtype=ValueType.INT64),\n",
    "        Feature(name=\"market_area_name\", dtype=ValueType.STRING),\n",
    "        Feature(name=\"primary_trait_name\", dtype=ValueType.STRING),\n",
    "        Feature(name=\"county_name\", dtype=ValueType.STRING),\n",
    "        Feature(name=\"phone_nbr\", dtype=ValueType.STRING),\n",
    "        Feature(name=\"store_size_qty\", dtype=ValueType.INT64),\n",
    "        Feature(name=\"store_size_uom_code\", dtype=ValueType.STRING),\n",
    "        Feature(name=\"store_size_uom_desc\", dtype=ValueType.STRING),\n",
    "        Feature(name=\"open_sunday_ind\", dtype=ValueType.STRING),\n",
    "        Feature(name=\"open_status_code\", dtype=ValueType.STRING),\n",
    "        Feature(name=\"open_status_desc\", dtype=ValueType.STRING),\n",
    "        Feature(name=\"expansion_size_qty\", dtype=ValueType.INT64),\n",
    "        Feature(name=\"real_store_nbr\", dtype=ValueType.INT64),\n",
    "        Feature(name=\"temp_store_nbr\", dtype=ValueType.INT64),\n",
    "        Feature(name=\"temp_store_ind\", dtype=ValueType.STRING),\n",
    "        Feature(name=\"store_type_code\", dtype=ValueType.STRING),\n",
    "        Feature(name=\"store_type_desc\", dtype=ValueType.STRING),\n",
    "        Feature(name=\"size_class_code\", dtype=ValueType.INT64),\n",
    "        Feature(name=\"sales_class_code\", dtype=ValueType.INT64),\n",
    "        Feature(name=\"store_comp_code\", dtype=ValueType.STRING),\n",
    "        Feature(name=\"store_comp_desc\", dtype=ValueType.STRING),\n",
    "        Feature(name=\"store_comp_ind\", dtype=ValueType.STRING),\n",
    "        Feature(name=\"financial_rpt_code\", dtype=ValueType.STRING),\n",
    "        Feature(name=\"financial_rpt_desc\", dtype=ValueType.STRING),\n",
    "        Feature(name=\"delivery_type_code\", dtype=ValueType.STRING),\n",
    "        Feature(name=\"delivery_type_desc\", dtype=ValueType.STRING),\n",
    "        Feature(name=\"prototype_nbr\", dtype=ValueType.STRING),\n",
    "        Feature(name=\"time_zone_code\", dtype=ValueType.STRING),\n",
    "        Feature(name=\"latitude_dgr\", dtype=ValueType.FLOAT),\n",
    "        Feature(name=\"longitude_dgr\", dtype=ValueType.FLOAT),\n",
    "        Feature(name=\"apparel_zone_nbr\", dtype=ValueType.INT64),\n",
    "        Feature(name=\"mdse_major_zone_nbr\", dtype=ValueType.INT64),\n",
    "        Feature(name=\"mdse_sub_zone_nbr\", dtype=ValueType.INT64),\n",
    "        Feature(name=\"banner_code\", dtype=ValueType.STRING),\n",
    "        Feature(name=\"banner_desc\", dtype=ValueType.STRING),\n",
    "        Feature(name=\"store_mgr_name\", dtype=ValueType.STRING),\n",
    "        Feature(name=\"buo_area_nbr\", dtype=ValueType.INT64),\n",
    "        Feature(name=\"base_div_nbr\", dtype=ValueType.INT64),\n",
    "        Feature(name=\"buo_area_name\", dtype=ValueType.STRING),\n",
    "        Feature(name=\"subregion_nbr\", dtype=ValueType.STRING),\n",
    "        Feature(name=\"subregion_name\", dtype=ValueType.STRING),\n",
    "        Feature(name=\"dec_store_nbr\", dtype=ValueType.STRING),\n",
    "        Feature(name=\"buo_area_mgr_name\", dtype=ValueType.STRING),\n",
    "        Feature(name=\"subdiv_mgr_name\", dtype=ValueType.STRING),\n",
    "        Feature(name=\"region_mgr_name\", dtype=ValueType.STRING),\n",
    "        Feature(name=\"subregion_mgr_name\", dtype=ValueType.STRING),\n",
    "        Feature(name=\"market_area_mgr_name\", dtype=ValueType.STRING),\n",
    "        Feature(name=\"geo_point_nbr\", dtype=ValueType.STRING)\n",
    "    ],\n",
    "    online=True,\n",
    "    input=project_details,\n",
    "    tags={},\n",
    ")' >> $FEATURES_PY"
   ]
  },
  {
   "cell_type": "code",
   "execution_count": 13,
   "id": "5f57f44b",
   "metadata": {},
   "outputs": [
    {
     "name": "stdout",
     "output_type": "stream",
     "text": [
      "Registered entity store_sk_id\n",
      "Registered feature view store_details\n",
      "Deploying infrastructure for store_details\n"
     ]
    }
   ],
   "source": [
    "%%bash\n",
    "cd features\n",
    "feast apply"
   ]
  },
  {
   "cell_type": "code",
   "execution_count": 14,
   "id": "291ea33c",
   "metadata": {},
   "outputs": [],
   "source": [
    "import pandas as pd\n",
    "from feast import FeatureStore"
   ]
  },
  {
   "cell_type": "code",
   "execution_count": 15,
   "id": "0d3c8dfe",
   "metadata": {},
   "outputs": [
    {
     "data": {
      "text/html": [
       "<div>\n",
       "<style scoped>\n",
       "    .dataframe tbody tr th:only-of-type {\n",
       "        vertical-align: middle;\n",
       "    }\n",
       "\n",
       "    .dataframe tbody tr th {\n",
       "        vertical-align: top;\n",
       "    }\n",
       "\n",
       "    .dataframe thead th {\n",
       "        text-align: right;\n",
       "    }\n",
       "</style>\n",
       "<table border=\"1\" class=\"dataframe\">\n",
       "  <thead>\n",
       "    <tr style=\"text-align: right;\">\n",
       "      <th></th>\n",
       "      <th>store_sk_id</th>\n",
       "      <th>event_timestamp</th>\n",
       "    </tr>\n",
       "  </thead>\n",
       "  <tbody>\n",
       "    <tr>\n",
       "      <th>0</th>\n",
       "      <td>752</td>\n",
       "      <td>2022-07-27</td>\n",
       "    </tr>\n",
       "    <tr>\n",
       "      <th>1</th>\n",
       "      <td>127</td>\n",
       "      <td>2022-07-27</td>\n",
       "    </tr>\n",
       "    <tr>\n",
       "      <th>2</th>\n",
       "      <td>801</td>\n",
       "      <td>2022-07-27</td>\n",
       "    </tr>\n",
       "  </tbody>\n",
       "</table>\n",
       "</div>"
      ],
      "text/plain": [
       "   store_sk_id event_timestamp\n",
       "0          752      2022-07-27\n",
       "1          127      2022-07-27\n",
       "2          801      2022-07-27"
      ]
     },
     "execution_count": 15,
     "metadata": {},
     "output_type": "execute_result"
    }
   ],
   "source": [
    "# Identify entities\n",
    "project_ids = df.store_sk_id[0:3].to_list()\n",
    "now = datetime.now()\n",
    "timestamps = [datetime(now.year, now.month, now.day)]*len(project_ids)\n",
    "entity_df = pd.DataFrame.from_dict({\"store_sk_id\": project_ids, \"event_timestamp\": timestamps})\n",
    "entity_df.head()"
   ]
  },
  {
   "cell_type": "code",
   "execution_count": 16,
   "id": "298ba0b3",
   "metadata": {},
   "outputs": [
    {
     "data": {
      "text/html": [
       "<div>\n",
       "<style scoped>\n",
       "    .dataframe tbody tr th:only-of-type {\n",
       "        vertical-align: middle;\n",
       "    }\n",
       "\n",
       "    .dataframe tbody tr th {\n",
       "        vertical-align: top;\n",
       "    }\n",
       "\n",
       "    .dataframe thead th {\n",
       "        text-align: right;\n",
       "    }\n",
       "</style>\n",
       "<table border=\"1\" class=\"dataframe\">\n",
       "  <thead>\n",
       "    <tr style=\"text-align: right;\">\n",
       "      <th></th>\n",
       "      <th>event_timestamp</th>\n",
       "      <th>store_sk_id</th>\n",
       "      <th>store_details__subregion_mgr_name</th>\n",
       "      <th>store_details__latitude_dgr</th>\n",
       "    </tr>\n",
       "  </thead>\n",
       "  <tbody>\n",
       "    <tr>\n",
       "      <th>0</th>\n",
       "      <td>2022-07-27 00:00:00+00:00</td>\n",
       "      <td>752</td>\n",
       "      <td>lnyirfnhrw</td>\n",
       "      <td>0.274</td>\n",
       "    </tr>\n",
       "    <tr>\n",
       "      <th>1</th>\n",
       "      <td>2022-07-27 00:00:00+00:00</td>\n",
       "      <td>127</td>\n",
       "      <td>oubcruropm</td>\n",
       "      <td>0.123</td>\n",
       "    </tr>\n",
       "    <tr>\n",
       "      <th>2</th>\n",
       "      <td>2022-07-27 00:00:00+00:00</td>\n",
       "      <td>801</td>\n",
       "      <td>buxoxljghc</td>\n",
       "      <td>0.612</td>\n",
       "    </tr>\n",
       "  </tbody>\n",
       "</table>\n",
       "</div>"
      ],
      "text/plain": [
       "            event_timestamp  store_sk_id store_details__subregion_mgr_name  \\\n",
       "0 2022-07-27 00:00:00+00:00          752                        lnyirfnhrw   \n",
       "1 2022-07-27 00:00:00+00:00          127                        oubcruropm   \n",
       "2 2022-07-27 00:00:00+00:00          801                        buxoxljghc   \n",
       "\n",
       "   store_details__latitude_dgr  \n",
       "0                        0.274  \n",
       "1                        0.123  \n",
       "2                        0.612  "
      ]
     },
     "execution_count": 16,
     "metadata": {},
     "output_type": "execute_result"
    }
   ],
   "source": [
    "# Get historical features\n",
    "store = FeatureStore(repo_path=\"features\")\n",
    "training_df = store.get_historical_features(\n",
    "    entity_df=entity_df,\n",
    "    feature_refs=[\"store_details:subregion_mgr_name\", \"store_details:latitude_dgr\"],\n",
    ").to_df()\n",
    "training_df.head()"
   ]
  },
  {
   "cell_type": "code",
   "execution_count": null,
   "id": "227461a4",
   "metadata": {},
   "outputs": [],
   "source": []
  }
 ],
 "metadata": {
  "kernelspec": {
   "display_name": "Python 3 (ipykernel)",
   "language": "python",
   "name": "python3"
  },
  "language_info": {
   "codemirror_mode": {
    "name": "ipython",
    "version": 3
   },
   "file_extension": ".py",
   "mimetype": "text/x-python",
   "name": "python",
   "nbconvert_exporter": "python",
   "pygments_lexer": "ipython3",
   "version": "3.7.13"
  }
 },
 "nbformat": 4,
 "nbformat_minor": 5
}
